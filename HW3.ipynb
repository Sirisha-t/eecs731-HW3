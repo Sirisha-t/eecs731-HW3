{
 "cells": [
  {
   "cell_type": "code",
   "execution_count": 120,
   "metadata": {
    "collapsed": true
   },
   "outputs": [],
   "source": [
    "# Import modules\n",
    "import numpy as np\n",
    "import pandas as pd\n",
    "import quandl\n",
    "from itertools import combinations\n",
    "from datetime import datetime\n",
    "from datetime import timedelta\n",
    "\n",
    "\n",
    "from sklearn.neighbors import KNeighborsClassifier\n",
    "from sklearn.cluster import KMeans\n",
    "\n",
    "# Plotting preferences\n",
    "%matplotlib inline\n",
    "import matplotlib.pyplot as plt\n",
    "import seaborn as sns\n",
    "\n",
    "import nltk\n",
    "import string\n",
    "import re"
   ]
  },
  {
   "cell_type": "code",
   "execution_count": 2,
   "metadata": {
    "collapsed": false
   },
   "outputs": [],
   "source": [
    "#Reading tags data\n",
    "tags = pd.read_csv('ml-20m/tags.csv',engine='python')\n",
    "\n",
    "#Reading ratings data\n",
    "ratings = pd.read_csv('ml-20m/ratings.csv',engine='python')\n",
    "\n",
    "#Reading movies data\n",
    "movies = pd.read_csv('ml-20m/movies.csv', engine='python')\n",
    "\n",
    "#Reading links data\n",
    "links = pd.read_csv('ml-20m/links.csv',low_memory=False)\n",
    "\n",
    "#Reading genome-scores data\n",
    "tagscore = pd.read_csv('ml-20m/genome-scores.csv',low_memory=False)\n",
    "\n",
    "#Reading genome-tags data\n",
    "genome_tag = pd.read_csv('ml-20m/genome-tags.csv',low_memory=False)\n"
   ]
  },
  {
   "cell_type": "code",
   "execution_count": 3,
   "metadata": {
    "collapsed": false
   },
   "outputs": [
    {
     "name": "stdout",
     "output_type": "stream",
     "text": [
      "Tags Info\n",
      "\n",
      "<class 'pandas.core.frame.DataFrame'>\n",
      "RangeIndex: 465564 entries, 0 to 465563\n",
      "Data columns (total 4 columns):\n",
      "userId       465564 non-null int64\n",
      "movieId      465564 non-null int64\n",
      "tag          465548 non-null object\n",
      "timestamp    465564 non-null int64\n",
      "dtypes: int64(3), object(1)\n",
      "memory usage: 14.2+ MB\n",
      "\n",
      "Ratings Info\n",
      "\n",
      "<class 'pandas.core.frame.DataFrame'>\n",
      "RangeIndex: 20000263 entries, 0 to 20000262\n",
      "Data columns (total 4 columns):\n",
      "userId       int64\n",
      "movieId      int64\n",
      "rating       float64\n",
      "timestamp    int64\n",
      "dtypes: float64(1), int64(3)\n",
      "memory usage: 610.4 MB\n",
      "\n",
      " Tag Scores Info\n",
      "\n",
      "<class 'pandas.core.frame.DataFrame'>\n",
      "RangeIndex: 11709768 entries, 0 to 11709767\n",
      "Data columns (total 3 columns):\n",
      "movieId      int64\n",
      "tagId        int64\n",
      "relevance    float64\n",
      "dtypes: float64(1), int64(2)\n",
      "memory usage: 268.0 MB\n"
     ]
    }
   ],
   "source": [
    "print \"Tags Info\\n\"\n",
    "tags.info()\n",
    "\n",
    "print \"\\nRatings Info\\n\"\n",
    "ratings.info()\n",
    "\n",
    "print \"\\n Tag Scores Info\\n\"\n",
    "tagscore.info()\n"
   ]
  },
  {
   "cell_type": "code",
   "execution_count": 4,
   "metadata": {
    "collapsed": false
   },
   "outputs": [
    {
     "data": {
      "text/plain": [
       "userId       0\n",
       "movieId      0\n",
       "rating       0\n",
       "timestamp    0\n",
       "dtype: int64"
      ]
     },
     "execution_count": 4,
     "metadata": {},
     "output_type": "execute_result"
    }
   ],
   "source": [
    "#Checking if there are any null values in the dataframe \n",
    "ratings.isnull().sum()"
   ]
  },
  {
   "cell_type": "code",
   "execution_count": 5,
   "metadata": {
    "collapsed": false
   },
   "outputs": [
    {
     "data": {
      "text/plain": [
       "movieId      0\n",
       "imdbId       0\n",
       "tmdbId     252\n",
       "dtype: int64"
      ]
     },
     "execution_count": 5,
     "metadata": {},
     "output_type": "execute_result"
    }
   ],
   "source": [
    "links.isnull().sum()"
   ]
  },
  {
   "cell_type": "code",
   "execution_count": 6,
   "metadata": {
    "collapsed": false
   },
   "outputs": [
    {
     "data": {
      "text/plain": [
       "movieId    0\n",
       "title      0\n",
       "genres     0\n",
       "dtype: int64"
      ]
     },
     "execution_count": 6,
     "metadata": {},
     "output_type": "execute_result"
    }
   ],
   "source": [
    "movies.isnull().sum()"
   ]
  },
  {
   "cell_type": "markdown",
   "metadata": {},
   "source": [
    "No NULL values found in either ratings, links or movies dataframes"
   ]
  },
  {
   "cell_type": "code",
   "execution_count": 7,
   "metadata": {
    "collapsed": false
   },
   "outputs": [
    {
     "data": {
      "text/plain": [
       "(20000263, 4)"
      ]
     },
     "execution_count": 7,
     "metadata": {},
     "output_type": "execute_result"
    }
   ],
   "source": [
    "ratings.shape"
   ]
  },
  {
   "cell_type": "code",
   "execution_count": 8,
   "metadata": {
    "collapsed": false
   },
   "outputs": [
    {
     "data": {
      "text/plain": [
       "(27278, 3)"
      ]
     },
     "execution_count": 8,
     "metadata": {},
     "output_type": "execute_result"
    }
   ],
   "source": [
    "movies.shape"
   ]
  },
  {
   "cell_type": "code",
   "execution_count": 9,
   "metadata": {
    "collapsed": false
   },
   "outputs": [
    {
     "data": {
      "text/plain": [
       "(465564, 4)"
      ]
     },
     "execution_count": 9,
     "metadata": {},
     "output_type": "execute_result"
    }
   ],
   "source": [
    "tags.shape"
   ]
  },
  {
   "cell_type": "code",
   "execution_count": 10,
   "metadata": {
    "collapsed": false
   },
   "outputs": [
    {
     "data": {
      "text/plain": [
       "userId        0\n",
       "movieId       0\n",
       "tag          16\n",
       "timestamp     0\n",
       "dtype: int64"
      ]
     },
     "execution_count": 10,
     "metadata": {},
     "output_type": "execute_result"
    }
   ],
   "source": [
    "tags.isnull().sum()"
   ]
  },
  {
   "cell_type": "code",
   "execution_count": 11,
   "metadata": {
    "collapsed": false
   },
   "outputs": [
    {
     "data": {
      "text/html": [
       "<div>\n",
       "<table border=\"1\" class=\"dataframe\">\n",
       "  <thead>\n",
       "    <tr style=\"text-align: right;\">\n",
       "      <th></th>\n",
       "      <th>userId</th>\n",
       "      <th>movieId</th>\n",
       "      <th>tag</th>\n",
       "      <th>timestamp</th>\n",
       "    </tr>\n",
       "  </thead>\n",
       "  <tbody>\n",
       "    <tr>\n",
       "      <th>373276</th>\n",
       "      <td>116460</td>\n",
       "      <td>123</td>\n",
       "      <td>NaN</td>\n",
       "      <td>1199450867</td>\n",
       "    </tr>\n",
       "    <tr>\n",
       "      <th>373277</th>\n",
       "      <td>116460</td>\n",
       "      <td>346</td>\n",
       "      <td>NaN</td>\n",
       "      <td>1199451946</td>\n",
       "    </tr>\n",
       "    <tr>\n",
       "      <th>373281</th>\n",
       "      <td>116460</td>\n",
       "      <td>1184</td>\n",
       "      <td>NaN</td>\n",
       "      <td>1199452261</td>\n",
       "    </tr>\n",
       "    <tr>\n",
       "      <th>373288</th>\n",
       "      <td>116460</td>\n",
       "      <td>1785</td>\n",
       "      <td>NaN</td>\n",
       "      <td>1199452006</td>\n",
       "    </tr>\n",
       "    <tr>\n",
       "      <th>373289</th>\n",
       "      <td>116460</td>\n",
       "      <td>2194</td>\n",
       "      <td>NaN</td>\n",
       "      <td>1199450677</td>\n",
       "    </tr>\n",
       "  </tbody>\n",
       "</table>\n",
       "</div>"
      ],
      "text/plain": [
       "        userId  movieId  tag   timestamp\n",
       "373276  116460      123  NaN  1199450867\n",
       "373277  116460      346  NaN  1199451946\n",
       "373281  116460     1184  NaN  1199452261\n",
       "373288  116460     1785  NaN  1199452006\n",
       "373289  116460     2194  NaN  1199450677"
      ]
     },
     "execution_count": 11,
     "metadata": {},
     "output_type": "execute_result"
    }
   ],
   "source": [
    "tags[tags.tag.isnull()].head()"
   ]
  },
  {
   "cell_type": "code",
   "execution_count": 12,
   "metadata": {
    "collapsed": false
   },
   "outputs": [
    {
     "data": {
      "text/plain": [
       "(465548, 4)"
      ]
     },
     "execution_count": 12,
     "metadata": {},
     "output_type": "execute_result"
    }
   ],
   "source": [
    "#Dropping any null tags\n",
    "tags=tags.dropna()\n",
    "tags.shape"
   ]
  },
  {
   "cell_type": "markdown",
   "metadata": {},
   "source": [
    "Since the tags dataset consisted of 16 null values, we just drop those rows "
   ]
  },
  {
   "cell_type": "code",
   "execution_count": 18,
   "metadata": {
    "collapsed": false
   },
   "outputs": [
    {
     "data": {
      "text/html": [
       "<div>\n",
       "<table border=\"1\" class=\"dataframe\">\n",
       "  <thead>\n",
       "    <tr style=\"text-align: right;\">\n",
       "      <th></th>\n",
       "      <th>movieId</th>\n",
       "      <th>title</th>\n",
       "    </tr>\n",
       "  </thead>\n",
       "  <tbody>\n",
       "    <tr>\n",
       "      <th>0</th>\n",
       "      <td>1</td>\n",
       "      <td>Toy Story (1995)</td>\n",
       "    </tr>\n",
       "    <tr>\n",
       "      <th>1</th>\n",
       "      <td>2</td>\n",
       "      <td>Jumanji (1995)</td>\n",
       "    </tr>\n",
       "    <tr>\n",
       "      <th>2</th>\n",
       "      <td>3</td>\n",
       "      <td>Grumpier Old Men (1995)</td>\n",
       "    </tr>\n",
       "    <tr>\n",
       "      <th>3</th>\n",
       "      <td>4</td>\n",
       "      <td>Waiting to Exhale (1995)</td>\n",
       "    </tr>\n",
       "    <tr>\n",
       "      <th>4</th>\n",
       "      <td>5</td>\n",
       "      <td>Father of the Bride Part II (1995)</td>\n",
       "    </tr>\n",
       "  </tbody>\n",
       "</table>\n",
       "</div>"
      ],
      "text/plain": [
       "   movieId                               title\n",
       "0        1                    Toy Story (1995)\n",
       "1        2                      Jumanji (1995)\n",
       "2        3             Grumpier Old Men (1995)\n",
       "3        4            Waiting to Exhale (1995)\n",
       "4        5  Father of the Bride Part II (1995)"
      ]
     },
     "execution_count": 18,
     "metadata": {},
     "output_type": "execute_result"
    }
   ],
   "source": [
    "# Only keeping the movie id and title from the movies dataframe\n",
    "movies = movies.loc[:,[\"movieId\",\"title\"]]\n",
    "movies.head(5)"
   ]
  },
  {
   "cell_type": "code",
   "execution_count": 17,
   "metadata": {
    "collapsed": false
   },
   "outputs": [
    {
     "data": {
      "text/html": [
       "<div>\n",
       "<table border=\"1\" class=\"dataframe\">\n",
       "  <thead>\n",
       "    <tr style=\"text-align: right;\">\n",
       "      <th></th>\n",
       "      <th>userId</th>\n",
       "      <th>movieId</th>\n",
       "      <th>rating</th>\n",
       "    </tr>\n",
       "  </thead>\n",
       "  <tbody>\n",
       "    <tr>\n",
       "      <th>0</th>\n",
       "      <td>1</td>\n",
       "      <td>2</td>\n",
       "      <td>3.5</td>\n",
       "    </tr>\n",
       "    <tr>\n",
       "      <th>1</th>\n",
       "      <td>1</td>\n",
       "      <td>29</td>\n",
       "      <td>3.5</td>\n",
       "    </tr>\n",
       "    <tr>\n",
       "      <th>2</th>\n",
       "      <td>1</td>\n",
       "      <td>32</td>\n",
       "      <td>3.5</td>\n",
       "    </tr>\n",
       "    <tr>\n",
       "      <th>3</th>\n",
       "      <td>1</td>\n",
       "      <td>47</td>\n",
       "      <td>3.5</td>\n",
       "    </tr>\n",
       "    <tr>\n",
       "      <th>4</th>\n",
       "      <td>1</td>\n",
       "      <td>50</td>\n",
       "      <td>3.5</td>\n",
       "    </tr>\n",
       "  </tbody>\n",
       "</table>\n",
       "</div>"
      ],
      "text/plain": [
       "   userId  movieId  rating\n",
       "0       1        2     3.5\n",
       "1       1       29     3.5\n",
       "2       1       32     3.5\n",
       "3       1       47     3.5\n",
       "4       1       50     3.5"
      ]
     },
     "execution_count": 17,
     "metadata": {},
     "output_type": "execute_result"
    }
   ],
   "source": [
    "# The ratings dataframe contains a timestamp column, which is not informative for our purpose.\n",
    "# So we will go ahead and only keep colums - userid, movieid and rating\n",
    "ratings = ratings.loc[:,[\"userId\",\"movieId\",\"rating\"]]\n",
    "ratings.head(5)"
   ]
  },
  {
   "cell_type": "code",
   "execution_count": 16,
   "metadata": {
    "collapsed": false
   },
   "outputs": [
    {
     "data": {
      "text/html": [
       "<div>\n",
       "<table border=\"1\" class=\"dataframe\">\n",
       "  <thead>\n",
       "    <tr style=\"text-align: right;\">\n",
       "      <th></th>\n",
       "      <th>userId</th>\n",
       "      <th>movieId</th>\n",
       "      <th>tag</th>\n",
       "    </tr>\n",
       "  </thead>\n",
       "  <tbody>\n",
       "    <tr>\n",
       "      <th>0</th>\n",
       "      <td>18</td>\n",
       "      <td>4141</td>\n",
       "      <td>Mark Waters</td>\n",
       "    </tr>\n",
       "    <tr>\n",
       "      <th>1</th>\n",
       "      <td>65</td>\n",
       "      <td>208</td>\n",
       "      <td>dark hero</td>\n",
       "    </tr>\n",
       "    <tr>\n",
       "      <th>2</th>\n",
       "      <td>65</td>\n",
       "      <td>353</td>\n",
       "      <td>dark hero</td>\n",
       "    </tr>\n",
       "    <tr>\n",
       "      <th>3</th>\n",
       "      <td>65</td>\n",
       "      <td>521</td>\n",
       "      <td>noir thriller</td>\n",
       "    </tr>\n",
       "    <tr>\n",
       "      <th>4</th>\n",
       "      <td>65</td>\n",
       "      <td>592</td>\n",
       "      <td>dark hero</td>\n",
       "    </tr>\n",
       "  </tbody>\n",
       "</table>\n",
       "</div>"
      ],
      "text/plain": [
       "   userId  movieId            tag\n",
       "0      18     4141    Mark Waters\n",
       "1      65      208      dark hero\n",
       "2      65      353      dark hero\n",
       "3      65      521  noir thriller\n",
       "4      65      592      dark hero"
      ]
     },
     "execution_count": 16,
     "metadata": {},
     "output_type": "execute_result"
    }
   ],
   "source": [
    "# the tags dataframe contains a timestamp column, which is not informative for our purpose.\n",
    "#So we will go ahead and only keep colums - userid, movieid and tag\n",
    "tags = tags.loc[:,[\"userId\",\"movieId\",\"tag\"]]\n",
    "tags.head(5)"
   ]
  },
  {
   "cell_type": "code",
   "execution_count": 19,
   "metadata": {
    "collapsed": true
   },
   "outputs": [],
   "source": [
    "# we now merge the ratings and tags dataframes\n",
    "data = pd.merge(ratings,tags)"
   ]
  },
  {
   "cell_type": "code",
   "execution_count": 20,
   "metadata": {
    "collapsed": true
   },
   "outputs": [],
   "source": [
    "# let us merge this \"data\" dataframe with the movies dataframe to get the title of the movie\n",
    "df = pd.merge(data,movies)"
   ]
  },
  {
   "cell_type": "code",
   "execution_count": 21,
   "metadata": {
    "collapsed": false
   },
   "outputs": [
    {
     "data": {
      "text/html": [
       "<div>\n",
       "<table border=\"1\" class=\"dataframe\">\n",
       "  <thead>\n",
       "    <tr style=\"text-align: right;\">\n",
       "      <th></th>\n",
       "      <th>userId</th>\n",
       "      <th>movieId</th>\n",
       "      <th>rating</th>\n",
       "      <th>tag</th>\n",
       "      <th>title</th>\n",
       "    </tr>\n",
       "  </thead>\n",
       "  <tbody>\n",
       "    <tr>\n",
       "      <th>0</th>\n",
       "      <td>65</td>\n",
       "      <td>27866</td>\n",
       "      <td>4.0</td>\n",
       "      <td>New Zealand</td>\n",
       "      <td>In My Father's Den (2004)</td>\n",
       "    </tr>\n",
       "    <tr>\n",
       "      <th>1</th>\n",
       "      <td>20520</td>\n",
       "      <td>27866</td>\n",
       "      <td>4.0</td>\n",
       "      <td>amazing ending</td>\n",
       "      <td>In My Father's Den (2004)</td>\n",
       "    </tr>\n",
       "    <tr>\n",
       "      <th>2</th>\n",
       "      <td>20520</td>\n",
       "      <td>27866</td>\n",
       "      <td>4.0</td>\n",
       "      <td>boring beginning</td>\n",
       "      <td>In My Father's Den (2004)</td>\n",
       "    </tr>\n",
       "    <tr>\n",
       "      <th>3</th>\n",
       "      <td>53931</td>\n",
       "      <td>27866</td>\n",
       "      <td>3.5</td>\n",
       "      <td>annoying</td>\n",
       "      <td>In My Father's Den (2004)</td>\n",
       "    </tr>\n",
       "    <tr>\n",
       "      <th>4</th>\n",
       "      <td>71833</td>\n",
       "      <td>27866</td>\n",
       "      <td>3.5</td>\n",
       "      <td>Matthew Macfadyen</td>\n",
       "      <td>In My Father's Den (2004)</td>\n",
       "    </tr>\n",
       "  </tbody>\n",
       "</table>\n",
       "</div>"
      ],
      "text/plain": [
       "   userId  movieId  rating                tag                      title\n",
       "0      65    27866     4.0        New Zealand  In My Father's Den (2004)\n",
       "1   20520    27866     4.0     amazing ending  In My Father's Den (2004)\n",
       "2   20520    27866     4.0   boring beginning  In My Father's Den (2004)\n",
       "3   53931    27866     3.5           annoying  In My Father's Den (2004)\n",
       "4   71833    27866     3.5  Matthew Macfadyen  In My Father's Den (2004)"
      ]
     },
     "execution_count": 21,
     "metadata": {},
     "output_type": "execute_result"
    }
   ],
   "source": [
    "df.head()"
   ]
  },
  {
   "cell_type": "code",
   "execution_count": 22,
   "metadata": {
    "collapsed": false
   },
   "outputs": [],
   "source": [
    "# Tags for genres\n",
    "movies_tags = movies.loc[:,[\"movieId\",\"title\"]]\n",
    "\n",
    "#merge on columns (default join is inner)\n",
    "movies_tags = pd.merge(tags, movies_tags, on =['movieId'])\n",
    "\n",
    "\n",
    "title_tags = movies_tags.loc[:,[\"title\",\"tag\"]]\n"
   ]
  },
  {
   "cell_type": "code",
   "execution_count": 23,
   "metadata": {
    "collapsed": false
   },
   "outputs": [
    {
     "data": {
      "text/html": [
       "<div>\n",
       "<table border=\"1\" class=\"dataframe\">\n",
       "  <thead>\n",
       "    <tr style=\"text-align: right;\">\n",
       "      <th></th>\n",
       "      <th>userId</th>\n",
       "      <th>movieId</th>\n",
       "      <th>tag</th>\n",
       "      <th>title</th>\n",
       "    </tr>\n",
       "  </thead>\n",
       "  <tbody>\n",
       "    <tr>\n",
       "      <th>0</th>\n",
       "      <td>18</td>\n",
       "      <td>4141</td>\n",
       "      <td>Mark Waters</td>\n",
       "      <td>Head Over Heels (2001)</td>\n",
       "    </tr>\n",
       "    <tr>\n",
       "      <th>1</th>\n",
       "      <td>66193</td>\n",
       "      <td>4141</td>\n",
       "      <td>naive</td>\n",
       "      <td>Head Over Heels (2001)</td>\n",
       "    </tr>\n",
       "    <tr>\n",
       "      <th>2</th>\n",
       "      <td>70201</td>\n",
       "      <td>4141</td>\n",
       "      <td>Mark Waters</td>\n",
       "      <td>Head Over Heels (2001)</td>\n",
       "    </tr>\n",
       "    <tr>\n",
       "      <th>3</th>\n",
       "      <td>89274</td>\n",
       "      <td>4141</td>\n",
       "      <td>Freddie Prinze Jr.</td>\n",
       "      <td>Head Over Heels (2001)</td>\n",
       "    </tr>\n",
       "    <tr>\n",
       "      <th>4</th>\n",
       "      <td>65</td>\n",
       "      <td>208</td>\n",
       "      <td>dark hero</td>\n",
       "      <td>Waterworld (1995)</td>\n",
       "    </tr>\n",
       "  </tbody>\n",
       "</table>\n",
       "</div>"
      ],
      "text/plain": [
       "   userId  movieId                 tag                   title\n",
       "0      18     4141         Mark Waters  Head Over Heels (2001)\n",
       "1   66193     4141               naive  Head Over Heels (2001)\n",
       "2   70201     4141         Mark Waters  Head Over Heels (2001)\n",
       "3   89274     4141  Freddie Prinze Jr.  Head Over Heels (2001)\n",
       "4      65      208           dark hero       Waterworld (1995)"
      ]
     },
     "execution_count": 23,
     "metadata": {},
     "output_type": "execute_result"
    }
   ],
   "source": [
    "movies_tags.head()"
   ]
  },
  {
   "cell_type": "code",
   "execution_count": 24,
   "metadata": {
    "collapsed": false
   },
   "outputs": [],
   "source": [
    "#Converting all tags to lower case\n",
    "df['tag'] = df['tag'].str.lower()"
   ]
  },
  {
   "cell_type": "code",
   "execution_count": 25,
   "metadata": {
    "collapsed": false
   },
   "outputs": [
    {
     "data": {
      "text/html": [
       "<div>\n",
       "<table border=\"1\" class=\"dataframe\">\n",
       "  <thead>\n",
       "    <tr style=\"text-align: right;\">\n",
       "      <th></th>\n",
       "      <th>userId</th>\n",
       "      <th>movieId</th>\n",
       "      <th>rating</th>\n",
       "    </tr>\n",
       "  </thead>\n",
       "  <tbody>\n",
       "    <tr>\n",
       "      <th>userId</th>\n",
       "      <td>1.000000</td>\n",
       "      <td>-0.022822</td>\n",
       "      <td>-0.010542</td>\n",
       "    </tr>\n",
       "    <tr>\n",
       "      <th>movieId</th>\n",
       "      <td>-0.022822</td>\n",
       "      <td>1.000000</td>\n",
       "      <td>-0.112277</td>\n",
       "    </tr>\n",
       "    <tr>\n",
       "      <th>rating</th>\n",
       "      <td>-0.010542</td>\n",
       "      <td>-0.112277</td>\n",
       "      <td>1.000000</td>\n",
       "    </tr>\n",
       "  </tbody>\n",
       "</table>\n",
       "</div>"
      ],
      "text/plain": [
       "           userId   movieId    rating\n",
       "userId   1.000000 -0.022822 -0.010542\n",
       "movieId -0.022822  1.000000 -0.112277\n",
       "rating  -0.010542 -0.112277  1.000000"
      ]
     },
     "execution_count": 25,
     "metadata": {},
     "output_type": "execute_result"
    }
   ],
   "source": [
    "df.corr()"
   ]
  },
  {
   "cell_type": "code",
   "execution_count": 26,
   "metadata": {
    "collapsed": false
   },
   "outputs": [
    {
     "data": {
      "text/plain": [
       "array([[<matplotlib.axes._subplots.AxesSubplot object at 0x1181aef10>]], dtype=object)"
      ]
     },
     "execution_count": 26,
     "metadata": {},
     "output_type": "execute_result"
    },
    {
     "data": {
      "image/png": "[encoded data removed]",
      "text/plain": [
       "<Figure size 720x360 with 1 Axes>"
      ]
     },
     "metadata": {},
     "output_type": "display_data"
    }
   ],
   "source": [
    "#Viszulaizing the ratings \n",
    "\n",
    "df.hist(column='rating', figsize=(10,5))"
   ]
  },
  {
   "cell_type": "code",
   "execution_count": 27,
   "metadata": {
    "collapsed": false
   },
   "outputs": [
    {
     "data": {
      "text/plain": [
       "<matplotlib.axes._subplots.AxesSubplot at 0x119f10f10>"
      ]
     },
     "execution_count": 27,
     "metadata": {},
     "output_type": "execute_result"
    },
    {
     "data": {
      "image/png": "[encoded data removed]",
      "text/plain": [
       "<Figure size 576x396 with 1 Axes>"
      ]
     },
     "metadata": {},
     "output_type": "display_data"
    }
   ],
   "source": [
    "df.boxplot(column='rating', figsize=(10,5), return_type='axes')"
   ]
  },
  {
   "cell_type": "markdown",
   "metadata": {},
   "source": [
    "The box plot and bar graph show us that most of the user ratings are within the range of 3.5-5.0"
   ]
  },
  {
   "cell_type": "code",
   "execution_count": 28,
   "metadata": {
    "collapsed": true
   },
   "outputs": [],
   "source": [
    "# Counting the tags\n",
    "tag_counts = df['tag'].value_counts()"
   ]
  },
  {
   "cell_type": "code",
   "execution_count": 29,
   "metadata": {
    "collapsed": false
   },
   "outputs": [
    {
     "data": {
      "text/plain": [
       "sci-fi             3475\n",
       "atmospheric        3020\n",
       "action             2829\n",
       "comedy             2791\n",
       "surreal            2456\n",
       "based on a book    2347\n",
       "twist ending       2320\n",
       "funny              2189\n",
       "dystopia           1941\n",
       "quirky             1935\n",
       "Name: tag, dtype: int64"
      ]
     },
     "execution_count": 29,
     "metadata": {},
     "output_type": "execute_result"
    }
   ],
   "source": [
    "tag_counts.head(10)"
   ]
  },
  {
   "cell_type": "code",
   "execution_count": 30,
   "metadata": {
    "collapsed": false
   },
   "outputs": [
    {
     "data": {
      "text/plain": [
       "<matplotlib.axes._subplots.AxesSubplot at 0x11914c190>"
      ]
     },
     "execution_count": 30,
     "metadata": {},
     "output_type": "execute_result"
    },
    {
     "data": {
      "image/png": "[encoded data removed]",
      "text/plain": [
       "<Figure size 720x360 with 1 Axes>"
      ]
     },
     "metadata": {},
     "output_type": "display_data"
    }
   ],
   "source": [
    "my_colors = [\"#1f77b4\", \"#ff7f0e\", \"#2ca02c\", \"#d62728\", \"#9467bd\", \"#8c564b\", \"#e377c2\", \"#7f7f7f\", \"#bcbd22\", \"#17becf\"]\n",
    "tag_counts[:10].plot(kind='bar', figsize=(10,5),color=my_colors)"
   ]
  },
  {
   "cell_type": "markdown",
   "metadata": {},
   "source": [
    "The above bar graph depicts the top 10 tags occuring in all movies. It can be seen that they are- sci-fi, atmospheric, action, comedy, surreal, based on a book, twist ending, funny, dystopia and quirky"
   ]
  },
  {
   "cell_type": "code",
   "execution_count": 31,
   "metadata": {
    "collapsed": false
   },
   "outputs": [
    {
     "data": {
      "text/html": [
       "<div>\n",
       "<table border=\"1\" class=\"dataframe\">\n",
       "  <thead>\n",
       "    <tr style=\"text-align: right;\">\n",
       "      <th></th>\n",
       "      <th>movieId</th>\n",
       "      <th>rating</th>\n",
       "    </tr>\n",
       "  </thead>\n",
       "  <tbody>\n",
       "    <tr>\n",
       "      <th>0</th>\n",
       "      <td>1</td>\n",
       "      <td>3.908333</td>\n",
       "    </tr>\n",
       "    <tr>\n",
       "      <th>1</th>\n",
       "      <td>2</td>\n",
       "      <td>3.562500</td>\n",
       "    </tr>\n",
       "    <tr>\n",
       "      <th>2</th>\n",
       "      <td>3</td>\n",
       "      <td>2.928571</td>\n",
       "    </tr>\n",
       "    <tr>\n",
       "      <th>3</th>\n",
       "      <td>4</td>\n",
       "      <td>2.800000</td>\n",
       "    </tr>\n",
       "    <tr>\n",
       "      <th>4</th>\n",
       "      <td>5</td>\n",
       "      <td>2.761905</td>\n",
       "    </tr>\n",
       "  </tbody>\n",
       "</table>\n",
       "</div>"
      ],
      "text/plain": [
       "   movieId    rating\n",
       "0        1  3.908333\n",
       "1        2  3.562500\n",
       "2        3  2.928571\n",
       "3        4  2.800000\n",
       "4        5  2.761905"
      ]
     },
     "execution_count": 31,
     "metadata": {},
     "output_type": "execute_result"
    }
   ],
   "source": [
    "#counting the mean rating for each movie\n",
    "avg_ratings= df.groupby('movieId', as_index=False).mean()\n",
    "del avg_ratings['userId']\n",
    "avg_ratings.head()"
   ]
  },
  {
   "cell_type": "code",
   "execution_count": 32,
   "metadata": {
    "collapsed": false
   },
   "outputs": [
    {
     "data": {
      "text/html": [
       "<div>\n",
       "<table border=\"1\" class=\"dataframe\">\n",
       "  <thead>\n",
       "    <tr style=\"text-align: right;\">\n",
       "      <th></th>\n",
       "      <th>rating</th>\n",
       "    </tr>\n",
       "    <tr>\n",
       "      <th>movieId</th>\n",
       "      <th></th>\n",
       "    </tr>\n",
       "  </thead>\n",
       "  <tbody>\n",
       "    <tr>\n",
       "      <th>1</th>\n",
       "      <td>420</td>\n",
       "    </tr>\n",
       "    <tr>\n",
       "      <th>2</th>\n",
       "      <td>120</td>\n",
       "    </tr>\n",
       "    <tr>\n",
       "      <th>3</th>\n",
       "      <td>14</td>\n",
       "    </tr>\n",
       "    <tr>\n",
       "      <th>4</th>\n",
       "      <td>5</td>\n",
       "    </tr>\n",
       "    <tr>\n",
       "      <th>5</th>\n",
       "      <td>21</td>\n",
       "    </tr>\n",
       "  </tbody>\n",
       "</table>\n",
       "</div>"
      ],
      "text/plain": [
       "         rating\n",
       "movieId        \n",
       "1           420\n",
       "2           120\n",
       "3            14\n",
       "4             5\n",
       "5            21"
      ]
     },
     "execution_count": 32,
     "metadata": {},
     "output_type": "execute_result"
    }
   ],
   "source": [
    "#Counting the total number of ratings by all users to every movie\n",
    "movie_count = df[['movieId','rating']].groupby('movieId').count()\n",
    "movie_count.head()"
   ]
  },
  {
   "cell_type": "code",
   "execution_count": 33,
   "metadata": {
    "collapsed": false
   },
   "outputs": [
    {
     "data": {
      "text/html": [
       "<div>\n",
       "<table border=\"1\" class=\"dataframe\">\n",
       "  <thead>\n",
       "    <tr style=\"text-align: right;\">\n",
       "      <th></th>\n",
       "      <th>movieId</th>\n",
       "      <th>numberOfUserRatings</th>\n",
       "    </tr>\n",
       "  </thead>\n",
       "  <tbody>\n",
       "    <tr>\n",
       "      <th>0</th>\n",
       "      <td>1</td>\n",
       "      <td>420</td>\n",
       "    </tr>\n",
       "    <tr>\n",
       "      <th>1</th>\n",
       "      <td>2</td>\n",
       "      <td>120</td>\n",
       "    </tr>\n",
       "    <tr>\n",
       "      <th>2</th>\n",
       "      <td>3</td>\n",
       "      <td>14</td>\n",
       "    </tr>\n",
       "    <tr>\n",
       "      <th>3</th>\n",
       "      <td>4</td>\n",
       "      <td>5</td>\n",
       "    </tr>\n",
       "    <tr>\n",
       "      <th>4</th>\n",
       "      <td>5</td>\n",
       "      <td>21</td>\n",
       "    </tr>\n",
       "  </tbody>\n",
       "</table>\n",
       "</div>"
      ],
      "text/plain": [
       "   movieId  numberOfUserRatings\n",
       "0        1                  420\n",
       "1        2                  120\n",
       "2        3                   14\n",
       "3        4                    5\n",
       "4        5                   21"
      ]
     },
     "execution_count": 33,
     "metadata": {},
     "output_type": "execute_result"
    }
   ],
   "source": [
    "#Number of user ratings per movie \n",
    "userRatings=df[['movieId','userId']].groupby('movieId',as_index=False).count().rename(columns={'userId':'numberOfUserRatings'})\n",
    "userRatings.head()"
   ]
  },
  {
   "cell_type": "code",
   "execution_count": 34,
   "metadata": {
    "collapsed": false
   },
   "outputs": [],
   "source": [
    "#Using the genome scores and tags data to get the relevance score of the tags\n",
    "tags_in_movies  = pd.merge(tagscore, genome_tag, on='tagId')[['movieId', 'tag', 'relevance']]"
   ]
  },
  {
   "cell_type": "code",
   "execution_count": 35,
   "metadata": {
    "collapsed": false
   },
   "outputs": [
    {
     "data": {
      "text/html": [
       "<div>\n",
       "<table border=\"1\" class=\"dataframe\">\n",
       "  <thead>\n",
       "    <tr style=\"text-align: right;\">\n",
       "      <th></th>\n",
       "      <th>movieId</th>\n",
       "      <th>tag</th>\n",
       "      <th>relevance</th>\n",
       "    </tr>\n",
       "  </thead>\n",
       "  <tbody>\n",
       "    <tr>\n",
       "      <th>0</th>\n",
       "      <td>1</td>\n",
       "      <td>007</td>\n",
       "      <td>0.02500</td>\n",
       "    </tr>\n",
       "    <tr>\n",
       "      <th>1</th>\n",
       "      <td>2</td>\n",
       "      <td>007</td>\n",
       "      <td>0.03975</td>\n",
       "    </tr>\n",
       "    <tr>\n",
       "      <th>2</th>\n",
       "      <td>3</td>\n",
       "      <td>007</td>\n",
       "      <td>0.04350</td>\n",
       "    </tr>\n",
       "    <tr>\n",
       "      <th>3</th>\n",
       "      <td>4</td>\n",
       "      <td>007</td>\n",
       "      <td>0.03725</td>\n",
       "    </tr>\n",
       "    <tr>\n",
       "      <th>4</th>\n",
       "      <td>5</td>\n",
       "      <td>007</td>\n",
       "      <td>0.04200</td>\n",
       "    </tr>\n",
       "  </tbody>\n",
       "</table>\n",
       "</div>"
      ],
      "text/plain": [
       "   movieId  tag  relevance\n",
       "0        1  007    0.02500\n",
       "1        2  007    0.03975\n",
       "2        3  007    0.04350\n",
       "3        4  007    0.03725\n",
       "4        5  007    0.04200"
      ]
     },
     "execution_count": 35,
     "metadata": {},
     "output_type": "execute_result"
    }
   ],
   "source": [
    "tags_in_movies.head()"
   ]
  },
  {
   "cell_type": "code",
   "execution_count": 36,
   "metadata": {
    "collapsed": false
   },
   "outputs": [
    {
     "data": {
      "text/html": [
       "<div>\n",
       "<table border=\"1\" class=\"dataframe\">\n",
       "  <thead>\n",
       "    <tr style=\"text-align: right;\">\n",
       "      <th></th>\n",
       "      <th>movieId</th>\n",
       "      <th>tagId</th>\n",
       "      <th>relevance</th>\n",
       "    </tr>\n",
       "  </thead>\n",
       "  <tbody>\n",
       "    <tr>\n",
       "      <th>0</th>\n",
       "      <td>1</td>\n",
       "      <td>1</td>\n",
       "      <td>0.02500</td>\n",
       "    </tr>\n",
       "    <tr>\n",
       "      <th>1</th>\n",
       "      <td>1</td>\n",
       "      <td>2</td>\n",
       "      <td>0.02500</td>\n",
       "    </tr>\n",
       "    <tr>\n",
       "      <th>2</th>\n",
       "      <td>1</td>\n",
       "      <td>3</td>\n",
       "      <td>0.05775</td>\n",
       "    </tr>\n",
       "    <tr>\n",
       "      <th>3</th>\n",
       "      <td>1</td>\n",
       "      <td>4</td>\n",
       "      <td>0.09675</td>\n",
       "    </tr>\n",
       "    <tr>\n",
       "      <th>4</th>\n",
       "      <td>1</td>\n",
       "      <td>5</td>\n",
       "      <td>0.14675</td>\n",
       "    </tr>\n",
       "  </tbody>\n",
       "</table>\n",
       "</div>"
      ],
      "text/plain": [
       "   movieId  tagId  relevance\n",
       "0        1      1    0.02500\n",
       "1        1      2    0.02500\n",
       "2        1      3    0.05775\n",
       "3        1      4    0.09675\n",
       "4        1      5    0.14675"
      ]
     },
     "execution_count": 36,
     "metadata": {},
     "output_type": "execute_result"
    }
   ],
   "source": [
    "# Since the dataset consists of 20M records, we need to filter out rows that are not useful for our exploration\n",
    "# let us look at the tag relevance scores to determine a good cut-off\n",
    "\n",
    "tagscore.head()"
   ]
  },
  {
   "cell_type": "code",
   "execution_count": 37,
   "metadata": {
    "collapsed": false
   },
   "outputs": [
    {
     "data": {
      "text/html": [
       "<div>\n",
       "<table border=\"1\" class=\"dataframe\">\n",
       "  <thead>\n",
       "    <tr style=\"text-align: right;\">\n",
       "      <th>tagId</th>\n",
       "      <th>1</th>\n",
       "      <th>2</th>\n",
       "      <th>3</th>\n",
       "      <th>4</th>\n",
       "      <th>5</th>\n",
       "      <th>6</th>\n",
       "      <th>7</th>\n",
       "      <th>8</th>\n",
       "      <th>9</th>\n",
       "      <th>10</th>\n",
       "      <th>...</th>\n",
       "      <th>1119</th>\n",
       "      <th>1120</th>\n",
       "      <th>1121</th>\n",
       "      <th>1122</th>\n",
       "      <th>1123</th>\n",
       "      <th>1124</th>\n",
       "      <th>1125</th>\n",
       "      <th>1126</th>\n",
       "      <th>1127</th>\n",
       "      <th>1128</th>\n",
       "    </tr>\n",
       "    <tr>\n",
       "      <th>movieId</th>\n",
       "      <th></th>\n",
       "      <th></th>\n",
       "      <th></th>\n",
       "      <th></th>\n",
       "      <th></th>\n",
       "      <th></th>\n",
       "      <th></th>\n",
       "      <th></th>\n",
       "      <th></th>\n",
       "      <th></th>\n",
       "      <th></th>\n",
       "      <th></th>\n",
       "      <th></th>\n",
       "      <th></th>\n",
       "      <th></th>\n",
       "      <th></th>\n",
       "      <th></th>\n",
       "      <th></th>\n",
       "      <th></th>\n",
       "      <th></th>\n",
       "      <th></th>\n",
       "    </tr>\n",
       "  </thead>\n",
       "  <tbody>\n",
       "    <tr>\n",
       "      <th>1</th>\n",
       "      <td>0.02500</td>\n",
       "      <td>0.02500</td>\n",
       "      <td>0.05775</td>\n",
       "      <td>0.09675</td>\n",
       "      <td>0.14675</td>\n",
       "      <td>0.21700</td>\n",
       "      <td>0.06700</td>\n",
       "      <td>0.26275</td>\n",
       "      <td>0.26200</td>\n",
       "      <td>0.03200</td>\n",
       "      <td>...</td>\n",
       "      <td>0.03950</td>\n",
       "      <td>0.01800</td>\n",
       "      <td>0.04575</td>\n",
       "      <td>0.03275</td>\n",
       "      <td>0.12500</td>\n",
       "      <td>0.04150</td>\n",
       "      <td>0.01925</td>\n",
       "      <td>0.03625</td>\n",
       "      <td>0.07775</td>\n",
       "      <td>0.02300</td>\n",
       "    </tr>\n",
       "    <tr>\n",
       "      <th>2</th>\n",
       "      <td>0.03975</td>\n",
       "      <td>0.04375</td>\n",
       "      <td>0.03775</td>\n",
       "      <td>0.04800</td>\n",
       "      <td>0.11025</td>\n",
       "      <td>0.07250</td>\n",
       "      <td>0.04775</td>\n",
       "      <td>0.10975</td>\n",
       "      <td>0.09925</td>\n",
       "      <td>0.02050</td>\n",
       "      <td>...</td>\n",
       "      <td>0.04175</td>\n",
       "      <td>0.01925</td>\n",
       "      <td>0.01725</td>\n",
       "      <td>0.02425</td>\n",
       "      <td>0.12550</td>\n",
       "      <td>0.02250</td>\n",
       "      <td>0.01550</td>\n",
       "      <td>0.01475</td>\n",
       "      <td>0.09025</td>\n",
       "      <td>0.01875</td>\n",
       "    </tr>\n",
       "    <tr>\n",
       "      <th>3</th>\n",
       "      <td>0.04350</td>\n",
       "      <td>0.05475</td>\n",
       "      <td>0.02800</td>\n",
       "      <td>0.07700</td>\n",
       "      <td>0.05400</td>\n",
       "      <td>0.06850</td>\n",
       "      <td>0.05600</td>\n",
       "      <td>0.18500</td>\n",
       "      <td>0.04925</td>\n",
       "      <td>0.02675</td>\n",
       "      <td>...</td>\n",
       "      <td>0.04150</td>\n",
       "      <td>0.02675</td>\n",
       "      <td>0.02775</td>\n",
       "      <td>0.03425</td>\n",
       "      <td>0.15550</td>\n",
       "      <td>0.03675</td>\n",
       "      <td>0.01700</td>\n",
       "      <td>0.01950</td>\n",
       "      <td>0.09700</td>\n",
       "      <td>0.01850</td>\n",
       "    </tr>\n",
       "    <tr>\n",
       "      <th>4</th>\n",
       "      <td>0.03725</td>\n",
       "      <td>0.03950</td>\n",
       "      <td>0.03675</td>\n",
       "      <td>0.03100</td>\n",
       "      <td>0.06825</td>\n",
       "      <td>0.04050</td>\n",
       "      <td>0.02325</td>\n",
       "      <td>0.08700</td>\n",
       "      <td>0.05125</td>\n",
       "      <td>0.03025</td>\n",
       "      <td>...</td>\n",
       "      <td>0.05750</td>\n",
       "      <td>0.03375</td>\n",
       "      <td>0.02275</td>\n",
       "      <td>0.03975</td>\n",
       "      <td>0.18525</td>\n",
       "      <td>0.05925</td>\n",
       "      <td>0.01500</td>\n",
       "      <td>0.01525</td>\n",
       "      <td>0.06450</td>\n",
       "      <td>0.01300</td>\n",
       "    </tr>\n",
       "    <tr>\n",
       "      <th>5</th>\n",
       "      <td>0.04200</td>\n",
       "      <td>0.05275</td>\n",
       "      <td>0.05925</td>\n",
       "      <td>0.03675</td>\n",
       "      <td>0.07525</td>\n",
       "      <td>0.12525</td>\n",
       "      <td>0.02850</td>\n",
       "      <td>0.08500</td>\n",
       "      <td>0.02950</td>\n",
       "      <td>0.02875</td>\n",
       "      <td>...</td>\n",
       "      <td>0.04250</td>\n",
       "      <td>0.02825</td>\n",
       "      <td>0.02150</td>\n",
       "      <td>0.02600</td>\n",
       "      <td>0.14275</td>\n",
       "      <td>0.02075</td>\n",
       "      <td>0.01650</td>\n",
       "      <td>0.01675</td>\n",
       "      <td>0.10750</td>\n",
       "      <td>0.01825</td>\n",
       "    </tr>\n",
       "  </tbody>\n",
       "</table>\n",
       "<p>5 rows × 1128 columns</p>\n",
       "</div>"
      ],
      "text/plain": [
       "tagId       1        2        3        4        5        6        7     \\\n",
       "movieId                                                                  \n",
       "1        0.02500  0.02500  0.05775  0.09675  0.14675  0.21700  0.06700   \n",
       "2        0.03975  0.04375  0.03775  0.04800  0.11025  0.07250  0.04775   \n",
       "3        0.04350  0.05475  0.02800  0.07700  0.05400  0.06850  0.05600   \n",
       "4        0.03725  0.03950  0.03675  0.03100  0.06825  0.04050  0.02325   \n",
       "5        0.04200  0.05275  0.05925  0.03675  0.07525  0.12525  0.02850   \n",
       "\n",
       "tagId       8        9        10     ...        1119     1120     1121  \\\n",
       "movieId                              ...                                 \n",
       "1        0.26275  0.26200  0.03200   ...     0.03950  0.01800  0.04575   \n",
       "2        0.10975  0.09925  0.02050   ...     0.04175  0.01925  0.01725   \n",
       "3        0.18500  0.04925  0.02675   ...     0.04150  0.02675  0.02775   \n",
       "4        0.08700  0.05125  0.03025   ...     0.05750  0.03375  0.02275   \n",
       "5        0.08500  0.02950  0.02875   ...     0.04250  0.02825  0.02150   \n",
       "\n",
       "tagId       1122     1123     1124     1125     1126     1127     1128  \n",
       "movieId                                                                 \n",
       "1        0.03275  0.12500  0.04150  0.01925  0.03625  0.07775  0.02300  \n",
       "2        0.02425  0.12550  0.02250  0.01550  0.01475  0.09025  0.01875  \n",
       "3        0.03425  0.15550  0.03675  0.01700  0.01950  0.09700  0.01850  \n",
       "4        0.03975  0.18525  0.05925  0.01500  0.01525  0.06450  0.01300  \n",
       "5        0.02600  0.14275  0.02075  0.01650  0.01675  0.10750  0.01825  \n",
       "\n",
       "[5 rows x 1128 columns]"
      ]
     },
     "execution_count": 37,
     "metadata": {},
     "output_type": "execute_result"
    }
   ],
   "source": [
    "#Using a pivot table with index as movie id, columns as the tag id's. The values in the table are the relevance scores\n",
    "tagscore[:100000].pivot(index='movieId', columns='tagId')['relevance'].head()"
   ]
  },
  {
   "cell_type": "code",
   "execution_count": 38,
   "metadata": {
    "collapsed": true
   },
   "outputs": [],
   "source": [
    "#Creating a new table with the mean relevance scores\n",
    "table = tagscore[:100000].pivot_table('relevance', index='movieId', columns='tagId', aggfunc='mean')"
   ]
  },
  {
   "cell_type": "code",
   "execution_count": 39,
   "metadata": {
    "collapsed": false
   },
   "outputs": [
    {
     "data": {
      "text/html": [
       "<div>\n",
       "<table border=\"1\" class=\"dataframe\">\n",
       "  <thead>\n",
       "    <tr style=\"text-align: right;\">\n",
       "      <th>tagId</th>\n",
       "      <th>1</th>\n",
       "      <th>2</th>\n",
       "      <th>3</th>\n",
       "      <th>4</th>\n",
       "      <th>5</th>\n",
       "      <th>6</th>\n",
       "      <th>7</th>\n",
       "      <th>8</th>\n",
       "      <th>9</th>\n",
       "      <th>10</th>\n",
       "      <th>...</th>\n",
       "      <th>1119</th>\n",
       "      <th>1120</th>\n",
       "      <th>1121</th>\n",
       "      <th>1122</th>\n",
       "      <th>1123</th>\n",
       "      <th>1124</th>\n",
       "      <th>1125</th>\n",
       "      <th>1126</th>\n",
       "      <th>1127</th>\n",
       "      <th>1128</th>\n",
       "    </tr>\n",
       "    <tr>\n",
       "      <th>movieId</th>\n",
       "      <th></th>\n",
       "      <th></th>\n",
       "      <th></th>\n",
       "      <th></th>\n",
       "      <th></th>\n",
       "      <th></th>\n",
       "      <th></th>\n",
       "      <th></th>\n",
       "      <th></th>\n",
       "      <th></th>\n",
       "      <th></th>\n",
       "      <th></th>\n",
       "      <th></th>\n",
       "      <th></th>\n",
       "      <th></th>\n",
       "      <th></th>\n",
       "      <th></th>\n",
       "      <th></th>\n",
       "      <th></th>\n",
       "      <th></th>\n",
       "      <th></th>\n",
       "    </tr>\n",
       "  </thead>\n",
       "  <tbody>\n",
       "    <tr>\n",
       "      <th>1</th>\n",
       "      <td>0.02500</td>\n",
       "      <td>0.02500</td>\n",
       "      <td>0.05775</td>\n",
       "      <td>0.09675</td>\n",
       "      <td>0.14675</td>\n",
       "      <td>0.21700</td>\n",
       "      <td>0.06700</td>\n",
       "      <td>0.26275</td>\n",
       "      <td>0.26200</td>\n",
       "      <td>0.03200</td>\n",
       "      <td>...</td>\n",
       "      <td>0.03950</td>\n",
       "      <td>0.01800</td>\n",
       "      <td>0.04575</td>\n",
       "      <td>0.03275</td>\n",
       "      <td>0.12500</td>\n",
       "      <td>0.04150</td>\n",
       "      <td>0.01925</td>\n",
       "      <td>0.03625</td>\n",
       "      <td>0.07775</td>\n",
       "      <td>0.02300</td>\n",
       "    </tr>\n",
       "    <tr>\n",
       "      <th>2</th>\n",
       "      <td>0.03975</td>\n",
       "      <td>0.04375</td>\n",
       "      <td>0.03775</td>\n",
       "      <td>0.04800</td>\n",
       "      <td>0.11025</td>\n",
       "      <td>0.07250</td>\n",
       "      <td>0.04775</td>\n",
       "      <td>0.10975</td>\n",
       "      <td>0.09925</td>\n",
       "      <td>0.02050</td>\n",
       "      <td>...</td>\n",
       "      <td>0.04175</td>\n",
       "      <td>0.01925</td>\n",
       "      <td>0.01725</td>\n",
       "      <td>0.02425</td>\n",
       "      <td>0.12550</td>\n",
       "      <td>0.02250</td>\n",
       "      <td>0.01550</td>\n",
       "      <td>0.01475</td>\n",
       "      <td>0.09025</td>\n",
       "      <td>0.01875</td>\n",
       "    </tr>\n",
       "    <tr>\n",
       "      <th>3</th>\n",
       "      <td>0.04350</td>\n",
       "      <td>0.05475</td>\n",
       "      <td>0.02800</td>\n",
       "      <td>0.07700</td>\n",
       "      <td>0.05400</td>\n",
       "      <td>0.06850</td>\n",
       "      <td>0.05600</td>\n",
       "      <td>0.18500</td>\n",
       "      <td>0.04925</td>\n",
       "      <td>0.02675</td>\n",
       "      <td>...</td>\n",
       "      <td>0.04150</td>\n",
       "      <td>0.02675</td>\n",
       "      <td>0.02775</td>\n",
       "      <td>0.03425</td>\n",
       "      <td>0.15550</td>\n",
       "      <td>0.03675</td>\n",
       "      <td>0.01700</td>\n",
       "      <td>0.01950</td>\n",
       "      <td>0.09700</td>\n",
       "      <td>0.01850</td>\n",
       "    </tr>\n",
       "    <tr>\n",
       "      <th>4</th>\n",
       "      <td>0.03725</td>\n",
       "      <td>0.03950</td>\n",
       "      <td>0.03675</td>\n",
       "      <td>0.03100</td>\n",
       "      <td>0.06825</td>\n",
       "      <td>0.04050</td>\n",
       "      <td>0.02325</td>\n",
       "      <td>0.08700</td>\n",
       "      <td>0.05125</td>\n",
       "      <td>0.03025</td>\n",
       "      <td>...</td>\n",
       "      <td>0.05750</td>\n",
       "      <td>0.03375</td>\n",
       "      <td>0.02275</td>\n",
       "      <td>0.03975</td>\n",
       "      <td>0.18525</td>\n",
       "      <td>0.05925</td>\n",
       "      <td>0.01500</td>\n",
       "      <td>0.01525</td>\n",
       "      <td>0.06450</td>\n",
       "      <td>0.01300</td>\n",
       "    </tr>\n",
       "    <tr>\n",
       "      <th>5</th>\n",
       "      <td>0.04200</td>\n",
       "      <td>0.05275</td>\n",
       "      <td>0.05925</td>\n",
       "      <td>0.03675</td>\n",
       "      <td>0.07525</td>\n",
       "      <td>0.12525</td>\n",
       "      <td>0.02850</td>\n",
       "      <td>0.08500</td>\n",
       "      <td>0.02950</td>\n",
       "      <td>0.02875</td>\n",
       "      <td>...</td>\n",
       "      <td>0.04250</td>\n",
       "      <td>0.02825</td>\n",
       "      <td>0.02150</td>\n",
       "      <td>0.02600</td>\n",
       "      <td>0.14275</td>\n",
       "      <td>0.02075</td>\n",
       "      <td>0.01650</td>\n",
       "      <td>0.01675</td>\n",
       "      <td>0.10750</td>\n",
       "      <td>0.01825</td>\n",
       "    </tr>\n",
       "  </tbody>\n",
       "</table>\n",
       "<p>5 rows × 1128 columns</p>\n",
       "</div>"
      ],
      "text/plain": [
       "tagId       1        2        3        4        5        6        7     \\\n",
       "movieId                                                                  \n",
       "1        0.02500  0.02500  0.05775  0.09675  0.14675  0.21700  0.06700   \n",
       "2        0.03975  0.04375  0.03775  0.04800  0.11025  0.07250  0.04775   \n",
       "3        0.04350  0.05475  0.02800  0.07700  0.05400  0.06850  0.05600   \n",
       "4        0.03725  0.03950  0.03675  0.03100  0.06825  0.04050  0.02325   \n",
       "5        0.04200  0.05275  0.05925  0.03675  0.07525  0.12525  0.02850   \n",
       "\n",
       "tagId       8        9        10     ...        1119     1120     1121  \\\n",
       "movieId                              ...                                 \n",
       "1        0.26275  0.26200  0.03200   ...     0.03950  0.01800  0.04575   \n",
       "2        0.10975  0.09925  0.02050   ...     0.04175  0.01925  0.01725   \n",
       "3        0.18500  0.04925  0.02675   ...     0.04150  0.02675  0.02775   \n",
       "4        0.08700  0.05125  0.03025   ...     0.05750  0.03375  0.02275   \n",
       "5        0.08500  0.02950  0.02875   ...     0.04250  0.02825  0.02150   \n",
       "\n",
       "tagId       1122     1123     1124     1125     1126     1127     1128  \n",
       "movieId                                                                 \n",
       "1        0.03275  0.12500  0.04150  0.01925  0.03625  0.07775  0.02300  \n",
       "2        0.02425  0.12550  0.02250  0.01550  0.01475  0.09025  0.01875  \n",
       "3        0.03425  0.15550  0.03675  0.01700  0.01950  0.09700  0.01850  \n",
       "4        0.03975  0.18525  0.05925  0.01500  0.01525  0.06450  0.01300  \n",
       "5        0.02600  0.14275  0.02075  0.01650  0.01675  0.10750  0.01825  \n",
       "\n",
       "[5 rows x 1128 columns]"
      ]
     },
     "execution_count": 39,
     "metadata": {},
     "output_type": "execute_result"
    }
   ],
   "source": [
    "table.head()"
   ]
  },
  {
   "cell_type": "code",
   "execution_count": 40,
   "metadata": {
    "collapsed": false
   },
   "outputs": [
    {
     "data": {
      "text/plain": [
       "array([[<matplotlib.axes._subplots.AxesSubplot object at 0x1183f0dd0>]], dtype=object)"
      ]
     },
     "execution_count": 40,
     "metadata": {},
     "output_type": "execute_result"
    },
    {
     "data": {
      "image/png": "[encoded data removed]",
      "text/plain": [
       "<Figure size 576x396 with 1 Axes>"
      ]
     },
     "metadata": {},
     "output_type": "display_data"
    }
   ],
   "source": [
    "table[:1].T.hist()"
   ]
  },
  {
   "cell_type": "markdown",
   "metadata": {},
   "source": [
    "It can be seen from the above histogram that most of the relevance scores lie in the 0 to 0.3 range. As these values dont provide useful information, we can use 0.3 as a suitable cutoff "
   ]
  },
  {
   "cell_type": "code",
   "execution_count": 41,
   "metadata": {
    "collapsed": true
   },
   "outputs": [],
   "source": [
    "movie_tags = tagscore[tagscore.relevance > 0.3][['movieId', 'tagId','relevance']]"
   ]
  },
  {
   "cell_type": "code",
   "execution_count": 42,
   "metadata": {
    "collapsed": false
   },
   "outputs": [
    {
     "data": {
      "text/html": [
       "<div>\n",
       "<table border=\"1\" class=\"dataframe\">\n",
       "  <thead>\n",
       "    <tr style=\"text-align: right;\">\n",
       "      <th></th>\n",
       "      <th>tagId</th>\n",
       "      <th>tag</th>\n",
       "    </tr>\n",
       "  </thead>\n",
       "  <tbody>\n",
       "    <tr>\n",
       "      <th>0</th>\n",
       "      <td>1</td>\n",
       "      <td>007</td>\n",
       "    </tr>\n",
       "    <tr>\n",
       "      <th>1</th>\n",
       "      <td>2</td>\n",
       "      <td>007 (series)</td>\n",
       "    </tr>\n",
       "    <tr>\n",
       "      <th>2</th>\n",
       "      <td>3</td>\n",
       "      <td>18th century</td>\n",
       "    </tr>\n",
       "    <tr>\n",
       "      <th>3</th>\n",
       "      <td>4</td>\n",
       "      <td>1920s</td>\n",
       "    </tr>\n",
       "    <tr>\n",
       "      <th>4</th>\n",
       "      <td>5</td>\n",
       "      <td>1930s</td>\n",
       "    </tr>\n",
       "  </tbody>\n",
       "</table>\n",
       "</div>"
      ],
      "text/plain": [
       "   tagId           tag\n",
       "0      1           007\n",
       "1      2  007 (series)\n",
       "2      3  18th century\n",
       "3      4         1920s\n",
       "4      5         1930s"
      ]
     },
     "execution_count": 42,
     "metadata": {},
     "output_type": "execute_result"
    }
   ],
   "source": [
    "genome_tag.head()"
   ]
  },
  {
   "cell_type": "code",
   "execution_count": 43,
   "metadata": {
    "collapsed": true
   },
   "outputs": [],
   "source": [
    "#Merging tag and movie names \n",
    "\n",
    "tags_to_movies = pd.merge(movie_tags, genome_tag, on='tagId', how='left')[['movieId', 'tagId','tag','relevance']]"
   ]
  },
  {
   "cell_type": "code",
   "execution_count": 44,
   "metadata": {
    "collapsed": true
   },
   "outputs": [],
   "source": [
    "tags_to_movies['tagId'] = tags_to_movies.tagId.astype(str)"
   ]
  },
  {
   "cell_type": "code",
   "execution_count": 45,
   "metadata": {
    "collapsed": false
   },
   "outputs": [
    {
     "data": {
      "text/html": [
       "<div>\n",
       "<table border=\"1\" class=\"dataframe\">\n",
       "  <thead>\n",
       "    <tr style=\"text-align: right;\">\n",
       "      <th></th>\n",
       "      <th>movieId</th>\n",
       "      <th>tagId</th>\n",
       "      <th>tag</th>\n",
       "      <th>relevance</th>\n",
       "    </tr>\n",
       "  </thead>\n",
       "  <tbody>\n",
       "    <tr>\n",
       "      <th>0</th>\n",
       "      <td>1</td>\n",
       "      <td>11</td>\n",
       "      <td>3d</td>\n",
       "      <td>0.57700</td>\n",
       "    </tr>\n",
       "    <tr>\n",
       "      <th>1</th>\n",
       "      <td>1</td>\n",
       "      <td>19</td>\n",
       "      <td>action</td>\n",
       "      <td>0.67050</td>\n",
       "    </tr>\n",
       "    <tr>\n",
       "      <th>2</th>\n",
       "      <td>1</td>\n",
       "      <td>21</td>\n",
       "      <td>adaptation</td>\n",
       "      <td>0.33025</td>\n",
       "    </tr>\n",
       "    <tr>\n",
       "      <th>3</th>\n",
       "      <td>1</td>\n",
       "      <td>29</td>\n",
       "      <td>adventure</td>\n",
       "      <td>0.89200</td>\n",
       "    </tr>\n",
       "    <tr>\n",
       "      <th>4</th>\n",
       "      <td>1</td>\n",
       "      <td>30</td>\n",
       "      <td>affectionate</td>\n",
       "      <td>0.67625</td>\n",
       "    </tr>\n",
       "  </tbody>\n",
       "</table>\n",
       "</div>"
      ],
      "text/plain": [
       "   movieId tagId           tag  relevance\n",
       "0        1    11            3d    0.57700\n",
       "1        1    19        action    0.67050\n",
       "2        1    21    adaptation    0.33025\n",
       "3        1    29     adventure    0.89200\n",
       "4        1    30  affectionate    0.67625"
      ]
     },
     "execution_count": 45,
     "metadata": {},
     "output_type": "execute_result"
    }
   ],
   "source": [
    "tags_to_movies.head()"
   ]
  },
  {
   "cell_type": "code",
   "execution_count": 46,
   "metadata": {
    "collapsed": true
   },
   "outputs": [],
   "source": [
    "# Concatenating tags into movies dataset\n",
    "def  concat_tags_of_movie (tags):\n",
    "    tags_as_str = ','.join(set(tags))\n",
    "    return tags_as_str\n",
    "\n"
   ]
  },
  {
   "cell_type": "code",
   "execution_count": 47,
   "metadata": {
    "collapsed": true
   },
   "outputs": [],
   "source": [
    "#Storing number of tags per movie\n",
    "tags_per_movie  = tags_to_movies.groupby('movieId')['tag'].agg({\n",
    "    'movie_tags': concat_tags_of_movie\n",
    "}).reset_index()"
   ]
  },
  {
   "cell_type": "code",
   "execution_count": 48,
   "metadata": {
    "collapsed": true
   },
   "outputs": [],
   "source": [
    "#Getting average ratings for movies \n",
    "avg_ratings  = ratings.groupby('movieId')['rating'].agg({\n",
    "    'rating_mean': 'mean',\n",
    "    'rating_median': 'median',\n",
    "    'num_ratings': 'size'\n",
    "}).reset_index()"
   ]
  },
  {
   "cell_type": "code",
   "execution_count": 49,
   "metadata": {
    "collapsed": true
   },
   "outputs": [],
   "source": [
    "#Storing all movies with average of all ratings given to them by users\n",
    "movies_with_ratings = pd.merge(movies, avg_ratings, how='left', on='movieId')"
   ]
  },
  {
   "cell_type": "code",
   "execution_count": 50,
   "metadata": {
    "collapsed": true
   },
   "outputs": [],
   "source": [
    "dataset = pd.merge(movies_with_ratings, tags_per_movie, how='left', on='movieId')"
   ]
  },
  {
   "cell_type": "code",
   "execution_count": 51,
   "metadata": {
    "collapsed": true
   },
   "outputs": [],
   "source": [
    "dataset.rename(columns={'median': 'median_rating', 'mean': 'mean_rating', 'tag': 'movie_tags'}, inplace=True)"
   ]
  },
  {
   "cell_type": "code",
   "execution_count": 91,
   "metadata": {
    "collapsed": false
   },
   "outputs": [
    {
     "data": {
      "text/html": [
       "<div>\n",
       "<table border=\"1\" class=\"dataframe\">\n",
       "  <thead>\n",
       "    <tr style=\"text-align: right;\">\n",
       "      <th></th>\n",
       "      <th>movieId</th>\n",
       "      <th>title</th>\n",
       "      <th>num_ratings</th>\n",
       "      <th>rating_mean</th>\n",
       "      <th>rating_median</th>\n",
       "      <th>movie_tags</th>\n",
       "    </tr>\n",
       "  </thead>\n",
       "  <tbody>\n",
       "    <tr>\n",
       "      <th>0</th>\n",
       "      <td>1</td>\n",
       "      <td>Toy Story (1995)</td>\n",
       "      <td>49695.0</td>\n",
       "      <td>3.921240</td>\n",
       "      <td>4.0</td>\n",
       "      <td>cute,highly quotable,enormously long battle sc...</td>\n",
       "    </tr>\n",
       "    <tr>\n",
       "      <th>1</th>\n",
       "      <td>2</td>\n",
       "      <td>Jumanji (1995)</td>\n",
       "      <td>22243.0</td>\n",
       "      <td>3.211977</td>\n",
       "      <td>3.0</td>\n",
       "      <td>oscar (best supporting actress),big budget,und...</td>\n",
       "    </tr>\n",
       "    <tr>\n",
       "      <th>2</th>\n",
       "      <td>3</td>\n",
       "      <td>Grumpier Old Men (1995)</td>\n",
       "      <td>12735.0</td>\n",
       "      <td>3.151040</td>\n",
       "      <td>3.0</td>\n",
       "      <td>family,happy ending,fish,wedding,silly,suprisi...</td>\n",
       "    </tr>\n",
       "    <tr>\n",
       "      <th>3</th>\n",
       "      <td>4</td>\n",
       "      <td>Waiting to Exhale (1995)</td>\n",
       "      <td>2756.0</td>\n",
       "      <td>2.861393</td>\n",
       "      <td>3.0</td>\n",
       "      <td>love,cancer,based on a book,sweet,queer,romant...</td>\n",
       "    </tr>\n",
       "    <tr>\n",
       "      <th>4</th>\n",
       "      <td>5</td>\n",
       "      <td>Father of the Bride Part II (1995)</td>\n",
       "      <td>12161.0</td>\n",
       "      <td>3.064592</td>\n",
       "      <td>3.0</td>\n",
       "      <td>bittersweet,big budget,family,cute,boston,crap...</td>\n",
       "    </tr>\n",
       "  </tbody>\n",
       "</table>\n",
       "</div>"
      ],
      "text/plain": [
       "   movieId                               title  num_ratings  rating_mean  \\\n",
       "0        1                    Toy Story (1995)      49695.0     3.921240   \n",
       "1        2                      Jumanji (1995)      22243.0     3.211977   \n",
       "2        3             Grumpier Old Men (1995)      12735.0     3.151040   \n",
       "3        4            Waiting to Exhale (1995)       2756.0     2.861393   \n",
       "4        5  Father of the Bride Part II (1995)      12161.0     3.064592   \n",
       "\n",
       "   rating_median                                         movie_tags  \n",
       "0            4.0  cute,highly quotable,enormously long battle sc...  \n",
       "1            3.0  oscar (best supporting actress),big budget,und...  \n",
       "2            3.0  family,happy ending,fish,wedding,silly,suprisi...  \n",
       "3            3.0  love,cancer,based on a book,sweet,queer,romant...  \n",
       "4            3.0  bittersweet,big budget,family,cute,boston,crap...  "
      ]
     },
     "execution_count": 91,
     "metadata": {},
     "output_type": "execute_result"
    }
   ],
   "source": [
    "dataset.head()"
   ]
  },
  {
   "cell_type": "code",
   "execution_count": 92,
   "metadata": {
    "collapsed": false
   },
   "outputs": [
    {
     "data": {
      "text/plain": [
       "movieId              0\n",
       "title                0\n",
       "num_ratings        534\n",
       "rating_mean        534\n",
       "rating_median      534\n",
       "movie_tags       16897\n",
       "dtype: int64"
      ]
     },
     "execution_count": 92,
     "metadata": {},
     "output_type": "execute_result"
    }
   ],
   "source": [
    "dataset.isnull().sum()"
   ]
  },
  {
   "cell_type": "code",
   "execution_count": 93,
   "metadata": {
    "collapsed": false
   },
   "outputs": [
    {
     "data": {
      "text/plain": [
       "movieId           0\n",
       "title             0\n",
       "num_ratings      11\n",
       "rating_mean      11\n",
       "rating_median    11\n",
       "movie_tags        0\n",
       "dtype: int64"
      ]
     },
     "execution_count": 93,
     "metadata": {},
     "output_type": "execute_result"
    }
   ],
   "source": [
    "#Dropping any null tags\n",
    "final = dataset[dataset['num_ratings'].notnull()]\n",
    "\n",
    "final = dataset[dataset['movie_tags'].notnull()]\n",
    "\n",
    "final.isnull().sum()"
   ]
  },
  {
   "cell_type": "code",
   "execution_count": 94,
   "metadata": {
    "collapsed": false
   },
   "outputs": [
    {
     "data": {
      "text/plain": [
       "movieId          0\n",
       "title            0\n",
       "num_ratings      0\n",
       "rating_mean      0\n",
       "rating_median    0\n",
       "movie_tags       0\n",
       "dtype: int64"
      ]
     },
     "execution_count": 94,
     "metadata": {},
     "output_type": "execute_result"
    }
   ],
   "source": [
    "final = final.dropna()\n",
    "\n",
    "final.isnull().sum()"
   ]
  },
  {
   "cell_type": "code",
   "execution_count": 95,
   "metadata": {
    "collapsed": false
   },
   "outputs": [],
   "source": [
    "#Setting movieId as index of the dataframe\n",
    "\n",
    "final.movieId = final.movieId.astype(str)\n",
    "\n",
    "final = final.set_index('movieId')\n",
    "\n"
   ]
  },
  {
   "cell_type": "code",
   "execution_count": 96,
   "metadata": {
    "collapsed": false
   },
   "outputs": [],
   "source": [
    "#Creatin a new column called 'num_tags' that stores the number of tags per movie\n",
    "final['num_tags'] = final['movie_tags'].str.split(',').apply(len)"
   ]
  },
  {
   "cell_type": "code",
   "execution_count": 97,
   "metadata": {
    "collapsed": true
   },
   "outputs": [],
   "source": [
    "#deleting unnecessary columns\n",
    "del final['title']\n",
    "\n",
    "del final['movie_tags']"
   ]
  },
  {
   "cell_type": "code",
   "execution_count": 107,
   "metadata": {
    "collapsed": false
   },
   "outputs": [
    {
     "name": "stdout",
     "output_type": "stream",
     "text": [
      "Data points: \n",
      "[[  4.96950000e+04   3.92123956e+00   4.00000000e+00   1.79000000e+02]\n",
      " [  2.22430000e+04   3.21197680e+00   3.00000000e+00   1.11000000e+02]\n",
      " [  1.27350000e+04   3.15104044e+00   3.00000000e+00   5.70000000e+01]\n",
      " ..., \n",
      " [  5.00000000e+00   2.50000000e+00   3.00000000e+00   7.00000000e+01]\n",
      " [  1.00000000e+00   3.50000000e+00   3.50000000e+00   1.58000000e+02]\n",
      " [  1.00000000e+00   3.50000000e+00   3.50000000e+00   1.95000000e+02]]\n",
      "Labels: \n",
      "['1' '2' '3' ..., '131013' '131168' '131170']\n"
     ]
    },
    {
     "data": {
      "text/plain": [
       "KNeighborsClassifier(algorithm='auto', leaf_size=30, metric='minkowski',\n",
       "           metric_params=None, n_jobs=1, n_neighbors=20, p=2,\n",
       "           weights='uniform')"
      ]
     },
     "execution_count": 107,
     "metadata": {},
     "output_type": "execute_result"
    }
   ],
   "source": [
    "# Building a K nearest neighbour model\n",
    "\n",
    "# Recommend 20 similar items\n",
    "engine = KNeighborsClassifier(n_neighbors=20)\n",
    "\n",
    "# Training data points\n",
    "data_points = final[['num_ratings', 'rating_mean','rating_median','num_tags']].values\n",
    "\n",
    "#Training labels\n",
    "labels = final.index.values\n",
    "\n",
    "print(\"Data points: \")\n",
    "print(data_points)\n",
    "print(\"Labels: \")\n",
    "print(labels)\n",
    "\n",
    "engine.fit(data_points, labels)"
   ]
  },
  {
   "cell_type": "code",
   "execution_count": 115,
   "metadata": {
    "collapsed": false
   },
   "outputs": [
    {
     "name": "stdout",
     "output_type": "stream",
     "text": [
      "Recommended movies based on entered movieID: \n",
      "[Index([u'131170', u'127206', u'121231', u'107130', u'120478', u'116817',\n",
      "       u'107953', u'110669', u'111764', u'114066', u'106102', u'114494',\n",
      "       u'107057', u'117434', u'109687', u'127198', u'106749', u'118896',\n",
      "       u'103849', u'126599'],\n",
      "      dtype='object', name=u'movieId')]\n"
     ]
    }
   ],
   "source": [
    "# Enter movie ID to get a list of 20 recommended items\n",
    "\n",
    "# User entered value\n",
    "movie_id = '131170'\n",
    "\n",
    "movie_data = [final.loc[movie_id].values]\n",
    "\n",
    "recommended_movie = engine.kneighbors(X=movie_data, n_neighbors=20, return_distance=False)\n",
    "\n",
    "# List of movie IDs \n",
    "\n",
    "movie_ids_list = []\n",
    "\n",
    "for each in recommended_movie:\n",
    "    movie_ids_list.append(final.iloc[each].index)\n",
    "\n",
    "print(\"Recommended movies based on entered movieID: \")\n",
    "print(movie_ids_list)"
   ]
  },
  {
   "cell_type": "code",
   "execution_count": 119,
   "metadata": {
    "collapsed": false
   },
   "outputs": [
    {
     "data": {
      "image/png": "[encoded data removed]",
      "text/plain": [
       "<Figure size 576x396 with 1 Axes>"
      ]
     },
     "metadata": {},
     "output_type": "display_data"
    },
    {
     "data": {
      "image/png": "[encoded data removed]",
      "text/plain": [
       "<Figure size 576x396 with 1 Axes>"
      ]
     },
     "metadata": {},
     "output_type": "display_data"
    },
    {
     "data": {
      "image/png": "[encoded data removed]",
      "text/plain": [
       "<Figure size 576x396 with 1 Axes>"
      ]
     },
     "metadata": {},
     "output_type": "display_data"
    }
   ],
   "source": [
    "# Showing recommended movies in a scatter plot\n",
    "\n",
    "ax = final.plot(kind='scatter', x='rating_mean', y='num_ratings', color='grey', alpha=0.20)\n",
    "final.iloc[recommended_movie[0]].plot(kind='scatter', x='rating_mean', y='num_ratings',\\\n",
    "                                                   color='orange', alpha=0.5, ax=ax)\n",
    "\n",
    "ax2 = final.plot(kind='scatter', x='rating_median', y='num_ratings', color='grey')\n",
    "final.iloc[recommended_movie[0]].plot(kind='scatter', x='rating_median', y='num_ratings',\\\n",
    "                                                   color='orange', alpha=0.5, ax=ax2)\n",
    "\n",
    "\n",
    "ax3 = final.plot(kind='scatter', x='num_tags', y='num_ratings', color='grey')\n",
    "final.iloc[recommended_movie[0]].plot(kind='scatter', x='num_tags', y='num_ratings',\\\n",
    "                                                   color='orange', alpha=0.5, ax=ax3)\n",
    "\n",
    "\n",
    "plt.show()"
   ]
  },
  {
   "cell_type": "code",
   "execution_count": 131,
   "metadata": {
    "collapsed": true
   },
   "outputs": [],
   "source": [
    "#resetting index of final df\n",
    "final_df = final\n",
    "\n",
    "final_df['movieId'] = df.movieId"
   ]
  },
  {
   "cell_type": "code",
   "execution_count": 132,
   "metadata": {
    "collapsed": false
   },
   "outputs": [
    {
     "data": {
      "text/html": [
       "<div>\n",
       "<table border=\"1\" class=\"dataframe\">\n",
       "  <thead>\n",
       "    <tr style=\"text-align: right;\">\n",
       "      <th></th>\n",
       "      <th>movieId</th>\n",
       "      <th>num_ratings</th>\n",
       "      <th>rating_mean</th>\n",
       "      <th>rating_median</th>\n",
       "      <th>num_tags</th>\n",
       "    </tr>\n",
       "  </thead>\n",
       "  <tbody>\n",
       "    <tr>\n",
       "      <th>0</th>\n",
       "      <td>27866</td>\n",
       "      <td>49695.0</td>\n",
       "      <td>3.921240</td>\n",
       "      <td>4.0</td>\n",
       "      <td>179</td>\n",
       "    </tr>\n",
       "    <tr>\n",
       "      <th>1</th>\n",
       "      <td>27866</td>\n",
       "      <td>22243.0</td>\n",
       "      <td>3.211977</td>\n",
       "      <td>3.0</td>\n",
       "      <td>111</td>\n",
       "    </tr>\n",
       "    <tr>\n",
       "      <th>2</th>\n",
       "      <td>27866</td>\n",
       "      <td>12735.0</td>\n",
       "      <td>3.151040</td>\n",
       "      <td>3.0</td>\n",
       "      <td>57</td>\n",
       "    </tr>\n",
       "    <tr>\n",
       "      <th>3</th>\n",
       "      <td>27866</td>\n",
       "      <td>2756.0</td>\n",
       "      <td>2.861393</td>\n",
       "      <td>3.0</td>\n",
       "      <td>57</td>\n",
       "    </tr>\n",
       "    <tr>\n",
       "      <th>4</th>\n",
       "      <td>27866</td>\n",
       "      <td>12161.0</td>\n",
       "      <td>3.064592</td>\n",
       "      <td>3.0</td>\n",
       "      <td>79</td>\n",
       "    </tr>\n",
       "  </tbody>\n",
       "</table>\n",
       "</div>"
      ],
      "text/plain": [
       "   movieId  num_ratings  rating_mean  rating_median  num_tags\n",
       "0    27866      49695.0     3.921240            4.0       179\n",
       "1    27866      22243.0     3.211977            3.0       111\n",
       "2    27866      12735.0     3.151040            3.0        57\n",
       "3    27866       2756.0     2.861393            3.0        57\n",
       "4    27866      12161.0     3.064592            3.0        79"
      ]
     },
     "execution_count": 132,
     "metadata": {},
     "output_type": "execute_result"
    }
   ],
   "source": [
    "final_df.head()"
   ]
  },
  {
   "cell_type": "code",
   "execution_count": 148,
   "metadata": {
    "collapsed": false
   },
   "outputs": [],
   "source": [
    "#Building a model based on k-means clustering model\n",
    "\n",
    "features = final_df[['rating_mean','num_tags']]\n",
    "def doKmeans(X, nclust=8):\n",
    "    model = KMeans(nclust)\n",
    "    model.fit(X)\n",
    "    clust_labels = model.predict(X)\n",
    "    cent = model.cluster_centers_\n",
    "    return (clust_labels, cent)\n",
    "\n",
    "clust_labels, cent = doKmeans(features, 2)\n",
    "kmeans = pd.DataFrame(clust_labels)\n",
    "features.insert((features.shape[1]),'kmeans',kmeans)"
   ]
  },
  {
   "cell_type": "code",
   "execution_count": 155,
   "metadata": {
    "collapsed": false
   },
   "outputs": [
    {
     "data": {
      "text/plain": [
       "<matplotlib.colorbar.Colorbar at 0x11edf4290>"
      ]
     },
     "execution_count": 155,
     "metadata": {},
     "output_type": "execute_result"
    },
    {
     "data": {
      "image/png": "[encoded data removed]",
      "text/plain": [
       "<Figure size 432x288 with 2 Axes>"
      ]
     },
     "metadata": {},
     "output_type": "display_data"
    }
   ],
   "source": [
    "#Displaying results in a plot \n",
    "import itertools\n",
    "\n",
    "fig = plt.figure()\n",
    "ax = fig.add_subplot(111)\n",
    "\n",
    "colors = itertools.cycle([\"r\", \"b\", \"g\"])\n",
    "\n",
    "scatter = ax.scatter(final_df['movieId'],features['num_tags'],\n",
    "                     c=kmeans[0])\n",
    "ax.set_title('K-Means Clustering')\n",
    "ax.set_xlabel('Tags')\n",
    "ax.set_ylabel('User Rating')\n",
    "   \n",
    "\n",
    "plt.colorbar(scatter)"
   ]
  },
  {
   "cell_type": "code",
   "execution_count": null,
   "metadata": {
    "collapsed": true
   },
   "outputs": [],
   "source": []
  }
 ],
 "metadata": {
  "anaconda-cloud": {},
  "kernelspec": {
   "display_name": "Python [default]",
   "language": "python",
   "name": "python2"
  },
  "language_info": {
   "codemirror_mode": {
    "name": "ipython",
    "version": 2
   },
   "file_extension": ".py",
   "mimetype": "text/x-python",
   "name": "python",
   "nbconvert_exporter": "python",
   "pygments_lexer": "ipython2",
   "version": "2.7.12"
  }
 },
 "nbformat": 4,
 "nbformat_minor": 1
}
